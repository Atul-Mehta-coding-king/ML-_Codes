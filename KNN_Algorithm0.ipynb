{
  "nbformat": 4,
  "nbformat_minor": 0,
  "metadata": {
    "colab": {
      "provenance": [],
      "gpuType": "T4",
      "authorship_tag": "ABX9TyN41oe8FsQY0476k50RWcTF",
      "include_colab_link": true
    },
    "kernelspec": {
      "name": "python3",
      "display_name": "Python 3"
    },
    "language_info": {
      "name": "python"
    },
    "accelerator": "GPU",
    "gpuClass": "standard"
  },
  "cells": [
    {
      "cell_type": "markdown",
      "metadata": {
        "id": "view-in-github",
        "colab_type": "text"
      },
      "source": [
        "<a href=\"https://colab.research.google.com/github/Atul-Mehta-coding-king/ML-_Codes/blob/master/KNN_Algorithm0.ipynb\" target=\"_parent\"><img src=\"https://colab.research.google.com/assets/colab-badge.svg\" alt=\"Open In Colab\"/></a>"
      ]
    },
    {
      "cell_type": "code",
      "source": [
        "import csv\n",
        "import random\n",
        "import math\n",
        "\n",
        "# Function to load the CSV file\n",
        "def load_dataset(filename, split):\n",
        "    dataset = []\n",
        "    with open(filename, 'r') as csvfile:\n",
        "        lines = csv.reader(csvfile)\n",
        "        next(lines, None)  # Skip header row\n",
        "        for row in lines:\n",
        "            dataset.append([float(x) for x in row[:-1]] + [row[-1]])\n",
        "    random.shuffle(dataset)\n",
        "    split_index = int(len(dataset) * split)\n",
        "    training_data = dataset[:split_index]\n",
        "    testing_data = dataset[split_index:]\n",
        "    return training_data, testing_data"
      ],
      "metadata": {
        "id": "2Fh8aZwqypTO"
      },
      "execution_count": 21,
      "outputs": []
    },
    {
      "cell_type": "code",
      "source": [
        "# Function to calculate Euclidean distance between two data points\n",
        "def euclidean_distance(instance1, instance2):\n",
        "    distance = 0\n",
        "    for i in range(len(instance1)-1):\n",
        "        distance += (instance1[i] - instance2[i])**2\n",
        "    return math.sqrt(distance)"
      ],
      "metadata": {
        "id": "Jg-ZuoMZ0sQo"
      },
      "execution_count": 22,
      "outputs": []
    },
    {
      "cell_type": "code",
      "source": [
        "# Function to get k nearest neighbors\n",
        "def get_neighbors(training_data, test_instance, k):\n",
        "    distances = []\n",
        "    for i in range(len(training_data)):\n",
        "        dist = euclidean_distance(test_instance, training_data[i])\n",
        "        distances.append((training_data[i], dist))\n",
        "    distances.sort(key=lambda x: x[1])\n",
        "    neighbors = []\n",
        "    for i in range(k):\n",
        "        neighbors.append(distances[i][0])\n",
        "    return neighbors"
      ],
      "metadata": {
        "id": "Q660_Y7c0ubO"
      },
      "execution_count": 23,
      "outputs": []
    },
    {
      "cell_type": "code",
      "source": [
        "# Function to make a prediction\n",
        "def predict_class(neighbors):\n",
        "    class_votes = {}\n",
        "    for i in range(len(neighbors)):\n",
        "        response = neighbors[i][-1]\n",
        "        if response in class_votes:\n",
        "            class_votes[response] += 1\n",
        "        else:\n",
        "            class_votes[response] = 1\n",
        "    sorted_votes = sorted(class_votes.items(), key=lambda x: x[1], reverse=True)\n",
        "    return sorted_votes[0][0]"
      ],
      "metadata": {
        "id": "l7pfRlXk0wYp"
      },
      "execution_count": 24,
      "outputs": []
    },
    {
      "cell_type": "code",
      "source": [
        "# Function to evaluate the accuracy of predictions\n",
        "def evaluate_accuracy(testing_data, predictions):\n",
        "    correct = 0\n",
        "    for i in range(len(testing_data)):\n",
        "        if testing_data[i][-1] == predictions[i]:\n",
        "            correct += 1\n",
        "    return (correct / float(len(testing_data))) * 100.0"
      ],
      "metadata": {
        "id": "OTWED_eo0zIx"
      },
      "execution_count": 25,
      "outputs": []
    },
    {
      "cell_type": "code",
      "source": [
        "# Main function\n",
        "def main():\n",
        "    filename = '/content/Iris.csv'\n",
        "    split = 0.8\n",
        "    k = 5\n",
        "    training_data, testing_data = load_dataset(filename, split)\n",
        "    print('Loaded dataset with {0} training instances and {1} testing instances'.format(len(training_data), len(testing_data)))\n",
        "    predictions = []\n",
        "    for i in range(len(testing_data)):\n",
        "        neighbors = get_neighbors(training_data, testing_data[i], k)\n",
        "        prediction = predict_class(neighbors)\n",
        "        predictions.append(prediction)\n",
        "        print('Predicted class: {0}, Actual class: {1}'.format(prediction, testing_data[i][-1]))\n",
        "    accuracy = evaluate_accuracy(testing_data, predictions)\n",
        "    print('Accuracy: {0}%'.format(accuracy))\n",
        "\n",
        "if __name__ == '__main__':\n",
        "    main()\n"
      ],
      "metadata": {
        "colab": {
          "base_uri": "https://localhost:8080/"
        },
        "id": "eitznBGy01g7",
        "outputId": "d4c57c5c-b0af-4a2a-a8fb-4da56d6de83f"
      },
      "execution_count": 26,
      "outputs": [
        {
          "output_type": "stream",
          "name": "stdout",
          "text": [
            "Loaded dataset with 120 training instances and 30 testing instances\n",
            "Predicted class: Iris-setosa, Actual class: Iris-setosa\n",
            "Predicted class: Iris-versicolor, Actual class: Iris-versicolor\n",
            "Predicted class: Iris-virginica, Actual class: Iris-versicolor\n",
            "Predicted class: Iris-versicolor, Actual class: Iris-versicolor\n",
            "Predicted class: Iris-setosa, Actual class: Iris-setosa\n",
            "Predicted class: Iris-versicolor, Actual class: Iris-versicolor\n",
            "Predicted class: Iris-versicolor, Actual class: Iris-versicolor\n",
            "Predicted class: Iris-versicolor, Actual class: Iris-versicolor\n",
            "Predicted class: Iris-virginica, Actual class: Iris-virginica\n",
            "Predicted class: Iris-setosa, Actual class: Iris-setosa\n",
            "Predicted class: Iris-setosa, Actual class: Iris-setosa\n",
            "Predicted class: Iris-versicolor, Actual class: Iris-setosa\n",
            "Predicted class: Iris-setosa, Actual class: Iris-setosa\n",
            "Predicted class: Iris-virginica, Actual class: Iris-virginica\n",
            "Predicted class: Iris-virginica, Actual class: Iris-virginica\n",
            "Predicted class: Iris-setosa, Actual class: Iris-setosa\n",
            "Predicted class: Iris-setosa, Actual class: Iris-setosa\n",
            "Predicted class: Iris-virginica, Actual class: Iris-virginica\n",
            "Predicted class: Iris-setosa, Actual class: Iris-setosa\n",
            "Predicted class: Iris-virginica, Actual class: Iris-virginica\n",
            "Predicted class: Iris-versicolor, Actual class: Iris-versicolor\n",
            "Predicted class: Iris-setosa, Actual class: Iris-setosa\n",
            "Predicted class: Iris-setosa, Actual class: Iris-setosa\n",
            "Predicted class: Iris-versicolor, Actual class: Iris-versicolor\n",
            "Predicted class: Iris-virginica, Actual class: Iris-virginica\n",
            "Predicted class: Iris-setosa, Actual class: Iris-setosa\n",
            "Predicted class: Iris-virginica, Actual class: Iris-virginica\n",
            "Predicted class: Iris-virginica, Actual class: Iris-virginica\n",
            "Predicted class: Iris-versicolor, Actual class: Iris-versicolor\n",
            "Predicted class: Iris-virginica, Actual class: Iris-virginica\n",
            "Accuracy: 93.33333333333333%\n"
          ]
        }
      ]
    },
    {
      "cell_type": "code",
      "source": [],
      "metadata": {
        "id": "YfolOd-z05k3"
      },
      "execution_count": null,
      "outputs": []
    }
  ]
}